{
 "cells": [
  {
   "cell_type": "code",
   "execution_count": 2,
   "metadata": {},
   "outputs": [
    {
     "name": "stdout",
     "output_type": "stream",
     "text": [
      "Automatically reordering numeric categories ...done\n",
      "Cleverminer version  1.0.10\n"
     ]
    }
   ],
   "source": [
    "import pandas as pd\n",
    "from cleverminer import cleverminer\n",
    "from datetime import datetime"
   ]
  },
  {
   "cell_type": "code",
   "execution_count": 3,
   "metadata": {},
   "outputs": [],
   "source": [
    "df = pd.read_csv('../../Traffic_Violations_2023.csv', encoding='cp1250', sep=',')\n",
    "\n",
    "df['Weekday'] = (df['Date Of Stop'].apply(lambda x: str(datetime.strptime(x, '%m/%d/%Y').weekday()+1)) + ' ' +\n",
    "                  df['Date Of Stop'].apply(lambda x: datetime.strptime(x, '%m/%d/%Y').strftime(\"%a\")))\n",
    "\n",
    "def extract_characters(text):\n",
    "    if len(text) == 8:\n",
    "        return int(text[:2])\n",
    "    else:\n",
    "        return \"error\"\n",
    "\n",
    "df['Time Of Day'] = pd.cut(df['Time Of Stop'].apply(extract_characters), bins = [-float('inf'),5,11,17,float('inf')], labels = ['d) Night', 'a) Morning', 'b) Afternoon', 'c) Evening'])\n",
    "\n",
    "df=df[df['Accident']=='Yes']\n",
    "df = df[['SubAgency', 'Belts',\n",
    "       'Personal Injury', 'Property Damage', 'Fatal', 'Commercial License',\n",
    "       'Alcohol', 'Work Zone', 'VehicleType', 'Violation Type',\n",
    "       'Race', 'Gender', 'Driver State', 'Arrest Type', 'Weekday', 'Time Of Day']]"
   ]
  },
  {
   "cell_type": "code",
   "execution_count": 4,
   "metadata": {},
   "outputs": [
    {
     "data": {
      "text/plain": [
       "Time Of Day\n",
       "c) Evening      826\n",
       "d) Night        742\n",
       "b) Afternoon    661\n",
       "a) Morning      507\n",
       "Name: count, dtype: int64"
      ]
     },
     "execution_count": 4,
     "metadata": {},
     "output_type": "execute_result"
    }
   ],
   "source": [
    "df['Time Of Day'].value_counts()"
   ]
  },
  {
   "cell_type": "code",
   "execution_count": 5,
   "metadata": {},
   "outputs": [
    {
     "data": {
      "text/plain": [
       "Weekday\n",
       "6 Sat    554\n",
       "7 Sun    469\n",
       "4 Thu    392\n",
       "5 Fri    367\n",
       "2 Tue    340\n",
       "3 Wed    325\n",
       "1 Mon    289\n",
       "Name: count, dtype: int64"
      ]
     },
     "execution_count": 5,
     "metadata": {},
     "output_type": "execute_result"
    }
   ],
   "source": [
    "df['Weekday'].value_counts()"
   ]
  },
  {
   "cell_type": "code",
   "execution_count": 8,
   "metadata": {},
   "outputs": [
    {
     "name": "stdout",
     "output_type": "stream",
     "text": [
      "Cleverminer version 1.0.10.\n",
      "Starting data preparation ...\n",
      "Automatically reordering numeric categories ...\n",
      "Encoding columns into bit-form...\n",
      "Encoding columns into bit-form...done\n",
      "Data preparation finished.\n",
      "Will go for  CFMiner\n",
      "Starting to mine rules.\n"
     ]
    },
    {
     "name": "stdout",
     "output_type": "stream",
     "text": [
      "  0%|                                                    |Elapsed Time: 0:00:00\n",
      "100%|####################################################|Elapsed Time: 0:00:00\n",
      "Done. Total verifications : 381, rules 6, times: prep 0.04sec, processing 0.03sec\n",
      "\n",
      "CleverMiner task processing summary:\n",
      "\n",
      "Task type : CFMiner\n",
      "Number of verifications : 381\n",
      "Number of rules : 6\n",
      "Total time needed : 00h 00m 00s\n",
      "Time of data preparation : 00h 00m 00s\n",
      "Time of rule mining : 00h 00m 00s\n",
      "\n",
      "\n",
      "List of rules:\n",
      "RULEID BASE  S_UP  S_DOWN Condition\n",
      "     1    81     2     1 Time Of Day(d) Night) & Belts(No) & Personal Injury(Yes)\n",
      "     2    60     2     1 Time Of Day(d) Night) & Property Damage(Yes) & SubAgency(3rd District, Silver Spring)\n",
      "     3    53     1     1 Time Of Day(d) Night a) Morning) & Belts(Yes) & SubAgency(Headquarters and Special Operations)\n",
      "     4    63     1     1 Time Of Day(d) Night a) Morning) & Property Damage(No) & SubAgency(6th District, Gaithersburg / Montgomery Village)\n",
      "     5    60     4     1 Time Of Day(c) Evening) & Personal Injury(Yes) & SubAgency(4th District, Wheaton)\n",
      "     6    65     1     1 Belts(Yes) & SubAgency(Headquarters and Special Operations)\n",
      "\n",
      "\n",
      "\n",
      "Rule id : 1\n",
      "\n",
      "Base :    81  Relative base : 0.030  Steps UP (consecutive) :     2  Steps DOWN (consecutive) :     1  Steps UP (any) :     4  Steps DOWN (any) :     1  Histogram maximum :    42  Histogram minimum :     0  Histogram relative maximum : 0.519 Histogram relative minimum : 0.000 \n",
      "\n",
      "Condition  : Time Of Day(d) Night) & Belts(No) & Personal Injury(Yes)\n",
      "\n",
      "Categories in target variable  ['1 Mon', '2 Tue', '3 Wed', '4 Thu', '5 Fri', '6 Sat', '7 Sun']\n",
      "Histogram                      [1, 2, 2, 25, 0, 9, 42]\n",
      "\n"
     ]
    }
   ],
   "source": [
    "# vic jak 50% nočních nehod, při které se někdo zraní a nejsou zapnuté pásy, se stane v noci ze soboty na neděli\n",
    "# tj. rule 1, podobne asi i rule 2 a 5\n",
    "clm = cleverminer(df=df,target='Weekday',proc='CFMiner',\n",
    "               quantifiers= {'RelMax':0.5, 'Base':50},\n",
    "               cond ={\n",
    "                    'attributes':[\n",
    "                        {'name': 'Time Of Day', 'type': 'seq', 'minlen': 1, 'maxlen': 2},\n",
    "                        {'name': 'Belts', 'type': 'subset', 'minlen': 1, 'maxlen': 1},\n",
    "                        {'name': 'Personal Injury', 'type': 'subset', 'minlen': 1, 'maxlen': 1},\n",
    "                        {'name': 'Property Damage', 'type': 'subset', 'minlen': 1, 'maxlen': 1},\n",
    "                        {'name': 'SubAgency', 'type': 'subset', 'minlen': 1, 'maxlen': 1}\n",
    "                    ], 'minlen':1, 'maxlen':3, 'type':'con'}\n",
    "               )\n",
    "\n",
    " \n",
    "clm.print_summary()\n",
    "clm.print_rulelist()\n",
    "clm.print_rule(1)"
   ]
  },
  {
   "cell_type": "code",
   "execution_count": 11,
   "metadata": {},
   "outputs": [
    {
     "name": "stdout",
     "output_type": "stream",
     "text": [
      "Cleverminer version 1.0.10.\n",
      "Starting data preparation ...\n",
      "Automatically reordering numeric categories ...\n",
      "Encoding columns into bit-form...\n",
      "Encoding columns into bit-form...done\n",
      "Data preparation finished.\n",
      "Will go for  CFMiner\n",
      "Starting to mine rules.\n",
      "  0%|                                                    |Elapsed Time: 0:00:00\n",
      "100%|####################################################|Elapsed Time: 0:00:00\n",
      "Done. Total verifications : 381, rules 16, times: prep 0.05sec, processing 0.03sec\n",
      "\n",
      "CleverMiner task processing summary:\n",
      "\n",
      "Task type : CFMiner\n",
      "Number of verifications : 381\n",
      "Number of rules : 16\n",
      "Total time needed : 00h 00m 00s\n",
      "Time of data preparation : 00h 00m 00s\n",
      "Time of rule mining : 00h 00m 00s\n",
      "\n",
      "\n",
      "List of rules:\n",
      "RULEID BASE  S_UP  S_DOWN Condition\n",
      "     1   786     2     1 Time Of Day(a) Morning b) Afternoon) & Belts(No) & Property Damage(No)\n",
      "     2    78     1     2 Time Of Day(a) Morning b) Afternoon) & Belts(No) & SubAgency(1st District, Rockville)\n",
      "     3   587     2     2 Time Of Day(a) Morning b) Afternoon) & Personal Injury(No) & Property Damage(No)\n",
      "     4   813     2     3 Time Of Day(a) Morning b) Afternoon) & Property Damage(No)\n",
      "     5    82     1     1 Time Of Day(a) Morning b) Afternoon) & SubAgency(1st District, Rockville)\n",
      "     6   661     1     2 Time Of Day(b) Afternoon)\n",
      "     7   641     3     2 Time Of Day(b) Afternoon) & Belts(No)\n",
      "     8   554     2     2 Time Of Day(b) Afternoon) & Belts(No) & Personal Injury(No)\n",
      "     9   562     2     2 Time Of Day(b) Afternoon) & Personal Injury(No)\n",
      "    10   997     1     1 Time Of Day(b) Afternoon c) Evening) & Belts(No) & Property Damage(No)\n",
      "    11   747     1     2 Time Of Day(b) Afternoon c) Evening) & Personal Injury(No) & Property Damage(No)\n",
      "    12  1026     2     1 Time Of Day(b) Afternoon c) Evening) & Property Damage(No)\n",
      "    13   171     1     1 Belts(No) & Personal Injury(No) & SubAgency(1st District, Rockville)\n",
      "    14   174     1     1 Personal Injury(No) & SubAgency(1st District, Rockville)\n",
      "    15  1817     1     1 Property Damage(No)\n",
      "    16   220     1     2 SubAgency(1st District, Rockville)\n",
      "\n",
      "\n",
      "\n",
      "Rule id : 16\n",
      "\n",
      "Base :   220  Relative base : 0.080  Steps UP (consecutive) :     1  Steps DOWN (consecutive) :     2  Steps UP (any) :     2  Steps DOWN (any) :     3  Histogram maximum :    39  Histogram minimum :    27  Histogram relative maximum : 0.177 Histogram relative minimum : 0.123 \n",
      "\n",
      "Condition  : SubAgency(1st District, Rockville)\n",
      "\n",
      "Categories in target variable  ['1 Mon', '2 Tue', '3 Wed', '4 Thu', '5 Fri', '6 Sat', '7 Sun']\n",
      "Histogram                      [39, 31, 36, 29, 27, 27, 31]\n",
      "\n"
     ]
    }
   ],
   "source": [
    "# v Rockville Police District je priblizne stejny pocet nehod nezavisle na dni v tydnu (rule 16)\n",
    "# odpoledních nehod je cca stejně nz na dni v tydnu (rule 6)\n",
    "# nehod bez škody na majetku je cca stejně nz na dni v týdnu (rule 15)\n",
    "clm = cleverminer(df=df,target='Weekday',proc='CFMiner',\n",
    "               quantifiers= {'RelMax_leq':0.18, 'RelMin':0.1, 'Base':50},\n",
    "               cond ={\n",
    "                    'attributes':[\n",
    "                        {'name': 'Time Of Day', 'type': 'seq', 'minlen': 1, 'maxlen': 2},\n",
    "                        {'name': 'Belts', 'type': 'subset', 'minlen': 1, 'maxlen': 1},\n",
    "                        {'name': 'Personal Injury', 'type': 'subset', 'minlen': 1, 'maxlen': 1},\n",
    "                        {'name': 'Property Damage', 'type': 'subset', 'minlen': 1, 'maxlen': 1},\n",
    "                        {'name': 'SubAgency', 'type': 'subset', 'minlen': 1, 'maxlen': 1}\n",
    "                    ], 'minlen':1, 'maxlen':3, 'type':'con'}\n",
    "               )\n",
    "\n",
    " \n",
    "clm.print_summary()\n",
    "clm.print_rulelist()\n",
    "clm.print_rule(16)"
   ]
  },
  {
   "cell_type": "code",
   "execution_count": 12,
   "metadata": {},
   "outputs": [
    {
     "name": "stdout",
     "output_type": "stream",
     "text": [
      "Cleverminer version 1.0.10.\n",
      "Starting data preparation ...\n",
      "Automatically reordering numeric categories ...\n",
      "Encoding columns into bit-form...\n",
      "Encoding columns into bit-form...done\n",
      "Data preparation finished.\n",
      "Will go for  CFMiner\n",
      "Starting to mine rules.\n",
      "  0%|                                                    |Elapsed Time: 0:00:00\n",
      " 13%|#######                                             |Elapsed Time: 0:00:00\n",
      "100%|####################################################|Elapsed Time: 0:00:00\n",
      "Done. Total verifications : 492, rules 3, times: prep 0.05sec, processing 0.10sec\n",
      "\n",
      "CleverMiner task processing summary:\n",
      "\n",
      "Task type : CFMiner\n",
      "Number of verifications : 492\n",
      "Number of rules : 3\n",
      "Total time needed : 00h 00m 00s\n",
      "Time of data preparation : 00h 00m 00s\n",
      "Time of rule mining : 00h 00m 00s\n",
      "\n",
      "\n",
      "List of rules:\n",
      "RULEID BASE  S_UP  S_DOWN Condition\n",
      "     1    56     2     1 Weekday(5 Fri 6 Sat) & Personal Injury(Yes) & SubAgency(4th District, Wheaton)\n",
      "     2    53     1     1 Weekday(7 Sun) & Belts(No) & SubAgency(Headquarters and Special Operations)\n",
      "     3    62     1     1 Weekday(7 Sun) & SubAgency(Headquarters and Special Operations)\n",
      "\n",
      "\n",
      "No such rule.\n"
     ]
    }
   ],
   "source": [
    "# 75% patečních a sobotních nehod v policejnim okrsku Wheaton zahrnujicich zraneni osob se stane vecer, tj v rozmezi 18:00 - 23:59 hod\n",
    "clm = cleverminer(df=df,target='Time Of Day',proc='CFMiner',\n",
    "               quantifiers= {'RelMax':0.75, 'Base':50},\n",
    "               cond ={\n",
    "                    'attributes':[\n",
    "                        {'name': 'Weekday', 'type': 'seq', 'minlen': 1, 'maxlen': 2},\n",
    "                        {'name': 'Belts', 'type': 'subset', 'minlen': 1, 'maxlen': 1},\n",
    "                        {'name': 'Personal Injury', 'type': 'subset', 'minlen': 1, 'maxlen': 1},\n",
    "                        {'name': 'Property Damage', 'type': 'subset', 'minlen': 1, 'maxlen': 1},\n",
    "                        {'name': 'SubAgency', 'type': 'subset', 'minlen': 1, 'maxlen': 1},\n",
    "                    ], 'minlen':1, 'maxlen':3, 'type':'con'}\n",
    "               )\n",
    "\n",
    " \n",
    "clm.print_summary()\n",
    "clm.print_rulelist()\n",
    "clm.print_rule(5)"
   ]
  },
  {
   "cell_type": "code",
   "execution_count": 15,
   "metadata": {},
   "outputs": [
    {
     "name": "stdout",
     "output_type": "stream",
     "text": [
      "Cleverminer version 1.0.10.\n",
      "Starting data preparation ...\n",
      "Automatically reordering numeric categories ...\n",
      "Encoding columns into bit-form...\n",
      "Encoding columns into bit-form...done\n",
      "Data preparation finished.\n",
      "Will go for  CFMiner\n",
      "Starting to mine rules.\n"
     ]
    },
    {
     "name": "stdout",
     "output_type": "stream",
     "text": [
      "  0%|                                                    |Elapsed Time: 0:00:00\n",
      "100%|####################################################|Elapsed Time: 0:00:00\n",
      "Done. Total verifications : 155, rules 4, times: prep 0.04sec, processing 0.02sec\n",
      "\n",
      "CleverMiner task processing summary:\n",
      "\n",
      "Task type : CFMiner\n",
      "Number of verifications : 155\n",
      "Number of rules : 4\n",
      "Total time needed : 00h 00m 00s\n",
      "Time of data preparation : 00h 00m 00s\n",
      "Time of rule mining : 00h 00m 00s\n",
      "\n",
      "\n",
      "List of rules:\n",
      "RULEID BASE  S_UP  S_DOWN Condition\n",
      "     1    54     1     1 Weekday(2 Tue 3 Wed 4 Thu) & Belts(Yes)\n",
      "     2   204     2     1 Weekday(4 Thu 5 Fri 6 Sat) & SubAgency(2nd District, Bethesda)\n",
      "     3   506     1     1 Belts(No) & SubAgency(2nd District, Bethesda)\n",
      "     4   515     2     1 SubAgency(2nd District, Bethesda)\n",
      "\n",
      "\n",
      "\n",
      "Rule id : 1\n",
      "\n",
      "Base :    54  Relative base : 0.020  Steps UP (consecutive) :     1  Steps DOWN (consecutive) :     1  Steps UP (any) :     1  Steps DOWN (any) :     2  Histogram maximum :    15  Histogram minimum :    12  Histogram relative maximum : 0.278 Histogram relative minimum : 0.222 \n",
      "\n",
      "Condition  : Weekday(2 Tue 3 Wed 4 Thu) & Belts(Yes)\n",
      "\n",
      "Categories in target variable  ['d) Night', 'a) Morning', 'b) Afternoon', 'c) Evening']\n",
      "Histogram                      [14, 12, 15, 13]\n",
      "\n"
     ]
    }
   ],
   "source": [
    "# v policejnim okrsku Bethesda je priblizne stene vysoky pocet nehod nezavisle na denni dobe (rule 4), utery az ctvrtek je priblizne stejny pocet nehod pri zapnutych pasech nezavisle na denni dobe (rule 1)\n",
    "clm = cleverminer(df=df,target='Time Of Day',proc='CFMiner',\n",
    "               quantifiers= {'RelMax_leq':0.28, 'RelMin':0.22, 'Base':50},\n",
    "               cond ={\n",
    "                    'attributes':[\n",
    "                        {'name': 'Weekday', 'type': 'seq', 'minlen': 1, 'maxlen': 3},\n",
    "                        {'name': 'Belts', 'type': 'subset', 'minlen': 1, 'maxlen': 1},\n",
    "                        {'name': 'SubAgency', 'type': 'subset', 'minlen': 1, 'maxlen': 1},\n",
    "                    ], 'minlen':1, 'maxlen':2, 'type':'con'}\n",
    "               )\n",
    "\n",
    " \n",
    "clm.print_summary()\n",
    "clm.print_rulelist()\n",
    "clm.print_rule(1)"
   ]
  },
  {
   "cell_type": "code",
   "execution_count": 191,
   "metadata": {},
   "outputs": [
    {
     "data": {
      "text/plain": [
       "SubAgency\n",
       "4th District, Wheaton                              630\n",
       "3rd District, Silver Spring                        555\n",
       "2nd District, Bethesda                             515\n",
       "Headquarters and Special Operations                413\n",
       "1st District, Rockville                            220\n",
       "5th District, Germantown                           203\n",
       "6th District, Gaithersburg / Montgomery Village    200\n",
       "Name: count, dtype: int64"
      ]
     },
     "execution_count": 191,
     "metadata": {},
     "output_type": "execute_result"
    }
   ],
   "source": [
    "df['SubAgency'].value_counts()"
   ]
  },
  {
   "cell_type": "code",
   "execution_count": 18,
   "metadata": {},
   "outputs": [
    {
     "name": "stdout",
     "output_type": "stream",
     "text": [
      "Cleverminer version 1.0.10.\n",
      "Starting data preparation ...\n",
      "Automatically reordering numeric categories ...\n",
      "Encoding columns into bit-form...\n",
      "Encoding columns into bit-form...done\n",
      "Data preparation finished.\n",
      "Will go for  CFMiner\n",
      "Starting to mine rules.\n",
      "  0%|                                                    |Elapsed Time: 0:00:00\n",
      "100%|####################################################|Elapsed Time: 0:00:00\n",
      "Done. Total verifications : 191, rules 8, times: prep 0.05sec, processing 0.02sec\n",
      "\n",
      "CleverMiner task processing summary:\n",
      "\n",
      "Task type : CFMiner\n",
      "Number of verifications : 191\n",
      "Number of rules : 8\n",
      "Total time needed : 00h 00m 00s\n",
      "Time of data preparation : 00h 00m 00s\n",
      "Time of rule mining : 00h 00m 00s\n",
      "\n",
      "\n",
      "List of rules:\n",
      "RULEID BASE  S_UP  S_DOWN Condition\n",
      "     1    59     1     2 Weekday(3 Wed 4 Thu) & Property Damage(Yes) & Time Of Day(a) Morning)\n",
      "     2    65     1     2 Weekday(4 Thu 5 Fri) & Property Damage(Yes) & Time Of Day(d) Night)\n",
      "     3    78     1     2 Weekday(5 Fri) & Time Of Day(d) Night)\n",
      "     4    75     2     2 Weekday(5 Fri 6 Sat) & Personal Injury(Yes) & Time Of Day(c) Evening)\n",
      "     5    95     2     1 Weekday(5 Fri 6 Sat 7 Sun) & Personal Injury(Yes) & Time Of Day(c) Evening)\n",
      "     6    53     1     2 Weekday(6 Sat) & Personal Injury(Yes) & Time Of Day(c) Evening)\n",
      "     7    67     1     1 Weekday(6 Sat) & Property Damage(Yes) & Time Of Day(d) Night)\n",
      "     8    73     2     1 Weekday(6 Sat 7 Sun) & Personal Injury(Yes) & Time Of Day(c) Evening)\n",
      "\n",
      "\n",
      "\n",
      "Rule id : 7\n",
      "\n",
      "Base :    67  Relative base : 0.024  Steps UP (consecutive) :     1  Steps DOWN (consecutive) :     1  Steps UP (any) :     3  Steps DOWN (any) :     2  Histogram maximum :    34  Histogram minimum :     0  Histogram relative maximum : 0.507 Histogram relative minimum : 0.000 \n",
      "\n",
      "Condition  : Weekday(6 Sat) & Property Damage(Yes) & Time Of Day(d) Night)\n",
      "\n",
      "Categories in target variable  ['1st District, Rockville', '2nd District, Bethesda', '3rd District, Silver Spring', '4th District, Wheaton', '5th District, Germantown', '6th District, Gaithersburg / Montgomery Village', 'Headquarters and Special Operations']\n",
      "Histogram                      [6, 7, 0, 20, 0, 0, 34]\n",
      "\n"
     ]
    }
   ],
   "source": [
    "# (3) v patek v noci se více jak 60% nehod stane  ve 3. okrsku = Silver Spring\n",
    "# (1) středy/čtvrtky ráno se více než 50% nehod s poškozením majetku stane ve 2. okrsku = Bethesda \n",
    "# (5) pá/so/ne večer se více než 50% nehod se zraněním osob stane ve 4. okrsku = Wheaton\n",
    "\n",
    "# (8) v so v noci řešilo více než 50% nehod s poškozením majetku Velitelství a zvláštní operace.......\n",
    "clm = cleverminer(df=df,target='SubAgency',proc='CFMiner',\n",
    "               quantifiers= {'RelMax':0.5, 'Base':50},\n",
    "               cond ={\n",
    "                    'attributes':[\n",
    "                        {'name': 'Weekday', 'type': 'seq', 'minlen': 1, 'maxlen': 3},\n",
    "                        {'name': 'Personal Injury', 'type': 'one', 'value':'Yes'},\n",
    "                        {'name': 'Property Damage', 'type': 'one', 'value':'Yes'},\n",
    "                        {'name': 'Time Of Day', 'type': 'subset', 'minlen': 1, 'maxlen': 1},\n",
    "                    ], 'minlen':1, 'maxlen':3, 'type':'con'}\n",
    "               )\n",
    "\n",
    " \n",
    "clm.print_summary()\n",
    "clm.print_rulelist()\n",
    "clm.print_rule(7)"
   ]
  }
 ],
 "metadata": {
  "kernelspec": {
   "display_name": "venv",
   "language": "python",
   "name": "python3"
  },
  "language_info": {
   "codemirror_mode": {
    "name": "ipython",
    "version": 3
   },
   "file_extension": ".py",
   "mimetype": "text/x-python",
   "name": "python",
   "nbconvert_exporter": "python",
   "pygments_lexer": "ipython3",
   "version": "3.12.1"
  }
 },
 "nbformat": 4,
 "nbformat_minor": 2
}
